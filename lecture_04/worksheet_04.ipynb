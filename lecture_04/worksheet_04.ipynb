{
 "cells": [
  {
   "attachments": {},
   "cell_type": "markdown",
   "metadata": {},
   "source": [
    "# Worksheet 04\n",
    "\n",
    "Name: Victor Verma\n",
    "UID: U86967149\n",
    "\n",
    "### Topics\n",
    "\n",
    "- Distance & Similarity"
   ]
  },
  {
   "cell_type": "markdown",
   "metadata": {},
   "source": [
    "### Distance & Similarity\n",
    "\n",
    "#### Part 1\n",
    "\n",
    "a) In the minkowski distance, describe what the parameters p and d are."
   ]
  },
  {
   "cell_type": "markdown",
   "metadata": {},
   "source": [
    "- p is a parameter that changes the exponent to which you raise each absolute difference to, and which root is taken of the sum.\n",
    "- d is the number of dimensions in the space (this is fixed based on the dataset)."
   ]
  },
  {
   "cell_type": "markdown",
   "metadata": {},
   "source": [
    "b) In your own words describe the difference between the Euclidean distance and the Manhattan distance."
   ]
  },
  {
   "cell_type": "markdown",
   "metadata": {},
   "source": [
    "- Euclidean distance is a special case of Minkowski distance where p is equal to 2. This allows for diagonal travel between two points.\n",
    "- Manhattan distance is a special case of Minkowski distance where p is equal to 1. This does not allow for diagonal travel between two points."
   ]
  },
  {
   "attachments": {},
   "cell_type": "markdown",
   "metadata": {},
   "source": [
    "Consider A = (0, 0) and B = (1, 1). When:\n",
    "\n",
    "- p = 1, d(A, B) = 2\n",
    "- p = 2, d(A, B) = $\\sqrt{2} = 1.41$\n",
    "- p = 3, d(A, B) = $2^{1/3} = 1.26$\n",
    "- p = 4, d(A, B) = $2^{1/4} = 1.19$\n",
    "\n",
    "c) Describe what you think distance would look like when p is very large."
   ]
  },
  {
   "cell_type": "markdown",
   "metadata": {},
   "source": [
    "As p gets larger, the Minkowski distance formula will emphasize the bigger distances between the pairs of coordinates. This means that it will approach that maximum largest distance between two points, which is 1 in this case."
   ]
  },
  {
   "cell_type": "markdown",
   "metadata": {},
   "source": [
    "d) Is the minkowski distance still a distance function when p < 1? Expain why / why not."
   ]
  },
  {
   "cell_type": "markdown",
   "metadata": {},
   "source": [
    "No. It can be shown by counterexample with the points A = (0,0), B = (1,0), and C = (0, 1) for which the triangle inequality does not hold. D(B, A) = D(A, C) = 1. D(B, C) = 2^(1/p). But when 0 < p < 1, D(B, C) is greater than 2, which would imply that it is shorter to go from B to A to C than to go directly from B to C."
   ]
  },
  {
   "cell_type": "markdown",
   "metadata": {},
   "source": [
    "e) when would you use cosine similarity over the euclidan distance?"
   ]
  },
  {
   "cell_type": "markdown",
   "metadata": {},
   "source": [
    "You should use cosine similarity when the direction of the vector matters more than the magnitude of the vector."
   ]
  },
  {
   "cell_type": "markdown",
   "metadata": {},
   "source": [
    "f) what does the jaccard distance account for that the manhattan distance doesn't?"
   ]
  },
  {
   "cell_type": "markdown",
   "metadata": {},
   "source": [
    "Jaccard distance accounts for the size of the intersection. This makes it so that two vectors with a manhattan distance of 2, but 5 features, are viewed differently than two vectors with a manhattan distance of 2, but 2 features."
   ]
  },
  {
   "attachments": {},
   "cell_type": "markdown",
   "metadata": {},
   "source": [
    "#### Part 2\n",
    "\n",
    "Consider the following two sentences:"
   ]
  },
  {
   "cell_type": "code",
   "execution_count": 1,
   "metadata": {},
   "outputs": [],
   "source": [
    "s1 = \"hello my name is Alice\"  \n",
    "s2 = \"hello my name is Bob\""
   ]
  },
  {
   "cell_type": "markdown",
   "metadata": {},
   "source": [
    "using the union of words from both sentences, we can represent each sentence as a vector. Each element of the vector represents the presence or absence of the word at that index.\n",
    "\n",
    "In this example, the union of words is (\"hello\", \"my\", \"name\", \"is\", \"Alice\", \"Bob\") so we can represent the above sentences as such:"
   ]
  },
  {
   "cell_type": "code",
   "execution_count": 2,
   "metadata": {},
   "outputs": [],
   "source": [
    "v1 = [1,    1, 1,   1, 1,    0]\n",
    "#     hello my name is Alice\n",
    "v2 = [1,    1, 1,   1, 0, 1]\n",
    "#     hello my name is    Bob"
   ]
  },
  {
   "attachments": {},
   "cell_type": "markdown",
   "metadata": {},
   "source": [
    "Programmatically, we can do the following:"
   ]
  },
  {
   "cell_type": "code",
   "execution_count": 3,
   "metadata": {},
   "outputs": [
    {
     "name": "stdout",
     "output_type": "stream",
     "text": [
      "['hello', 'my', 'name', 'is', 'Bob', 'Alice']\n",
      "[1, 1, 1, 1, 0, 1]\n"
     ]
    }
   ],
   "source": [
    "corpus = [s1, s2]\n",
    "all_words = list(set([item for x in corpus for item in x.split()]))\n",
    "print(all_words)\n",
    "v1 = [1 if x in s1 else 0 for x in all_words]\n",
    "print(v1)"
   ]
  },
  {
   "cell_type": "markdown",
   "metadata": {},
   "source": [
    "Let's add a new sentence to our corpus:"
   ]
  },
  {
   "cell_type": "code",
   "execution_count": 4,
   "metadata": {},
   "outputs": [],
   "source": [
    "s3 = \"hi my name is Claude\"\n",
    "corpus.append(s3)"
   ]
  },
  {
   "cell_type": "markdown",
   "metadata": {},
   "source": [
    "a) What is the new union of words used to represent s1, s2, and s3?"
   ]
  },
  {
   "cell_type": "code",
   "execution_count": 5,
   "metadata": {},
   "outputs": [
    {
     "name": "stdout",
     "output_type": "stream",
     "text": [
      "['Claude', 'hello', 'my', 'name', 'is', 'Bob', 'hi', 'Alice']\n"
     ]
    }
   ],
   "source": [
    "all_words = list(set([item for x in corpus for item in x.split()]))\n",
    "print(all_words)"
   ]
  },
  {
   "attachments": {},
   "cell_type": "markdown",
   "metadata": {},
   "source": [
    "b) Represent s1, s2, and s3 as vectors as above, using this new set of words."
   ]
  },
  {
   "cell_type": "code",
   "execution_count": 6,
   "metadata": {},
   "outputs": [
    {
     "name": "stdout",
     "output_type": "stream",
     "text": [
      "[0, 1, 1, 1, 1, 0, 0, 1]\n",
      "[0, 1, 1, 1, 1, 1, 0, 0]\n",
      "[1, 0, 1, 1, 1, 0, 1, 0]\n"
     ]
    }
   ],
   "source": [
    "v1 = [1 if x in s1 else 0 for x in all_words]\n",
    "print(v1)\n",
    "v2 = [1 if x in s2 else 0 for x in all_words]\n",
    "print(v2)\n",
    "v3 = [1 if x in s3 else 0 for x in all_words]\n",
    "print(v3)"
   ]
  },
  {
   "cell_type": "markdown",
   "metadata": {},
   "source": [
    "c) Write a function that computes the manhattan distance between two vectors. Which pair of vectors are the most similar under that distance function?"
   ]
  },
  {
   "cell_type": "code",
   "execution_count": 19,
   "metadata": {},
   "outputs": [
    {
     "name": "stdout",
     "output_type": "stream",
     "text": [
      "1.4142135623730951\n",
      "2.0\n",
      "[0, 1, 1, 1, 1, 0, 0, 1]\n",
      "[0, 1, 1, 1, 1, 1, 0, 0]\n",
      "[1, 0, 1, 1, 1, 0, 1, 0]\n",
      "vector with index 0 ([0, 1, 1, 1, 1, 0, 0, 1]) and vector with index 1 ([0, 1, 1, 1, 1, 1, 0, 0]) are the most similar with a distance of 2.0\n"
     ]
    }
   ],
   "source": [
    "def minkowski(x, y, p):\n",
    "    if len(x) != len(y):\n",
    "        raise RuntimeError(\"x and y should be the same dimension\")\n",
    "    res = 0\n",
    "    for i in range(len(x)):\n",
    "        res += abs((x[i] - y[i])) ** p\n",
    "    return  res ** (1/p)\n",
    "print(minkowski([0,0], [1,1], 2)) # expect sqrt of 2\n",
    "print(minkowski([0,0], [1,1], 1)) # expect 2\n",
    "\n",
    "def most_similar(vectors, distance=minkowski):\n",
    "    lowest_similarity = [10**6, None]\n",
    "    for i in range(len(vectors) - 1):\n",
    "        for j in range(i + 1, len(vectors)):\n",
    "            dist = distance(vectors[i], vectors[j], 1)\n",
    "            if dist < lowest_similarity[0]:\n",
    "                lowest_similarity = [dist, f\"vector with index {i} ({vectors[i]}) and vector with index {j} ({vectors[j]}) are the most similar with a distance of {dist}\"]\n",
    "    return lowest_similarity[1]\n",
    "\n",
    "print(v1)\n",
    "print(v2)\n",
    "print(v3)\n",
    "print(most_similar([v1, v2, v3]))"
   ]
  },
  {
   "cell_type": "markdown",
   "metadata": {},
   "source": [
    "The two most similar vectors are v1 and v2."
   ]
  },
  {
   "cell_type": "markdown",
   "metadata": {},
   "source": [
    "d) Create a matrix of all these vectors (row major) and add the following sentences in vector form:\n",
    "\n",
    "- \"hi Alice\"\n",
    "- \"hello Claude\"\n",
    "- \"Bob my name is Claude\"\n",
    "- \"hi Claude my name is Alice\"\n",
    "- \"hello Bob\""
   ]
  },
  {
   "cell_type": "code",
   "execution_count": 20,
   "metadata": {},
   "outputs": [
    {
     "name": "stdout",
     "output_type": "stream",
     "text": [
      "['Claude', 'hello', 'my', 'name', 'is', 'Bob', 'hi', 'Alice']\n",
      "[[0, 1, 1, 1, 1, 0, 0, 1], [0, 1, 1, 1, 1, 1, 0, 0], [1, 0, 1, 1, 1, 0, 1, 0], [0, 0, 0, 0, 0, 0, 1, 1], [1, 1, 0, 0, 0, 0, 0, 0], [1, 0, 1, 1, 1, 1, 0, 0], [1, 0, 1, 1, 1, 0, 1, 1], [0, 1, 0, 0, 0, 1, 0, 0]]\n",
      "8 8\n",
      "['Claude', 'hello', 'my', 'name', 'is', 'Bob', 'hi', 'Alice']\n",
      "[0, 1, 1, 1, 1, 0, 0, 1]\n",
      "[0, 1, 1, 1, 1, 1, 0, 0]\n",
      "[1, 0, 1, 1, 1, 0, 1, 0]\n",
      "[0, 0, 0, 0, 0, 0, 1, 1]\n",
      "[1, 1, 0, 0, 0, 0, 0, 0]\n",
      "[1, 0, 1, 1, 1, 1, 0, 0]\n",
      "[1, 0, 1, 1, 1, 0, 1, 1]\n",
      "[0, 1, 0, 0, 0, 1, 0, 0]\n",
      "8 8\n"
     ]
    }
   ],
   "source": [
    "# sentences\n",
    "s1 = \"hello my name is Alice\"  \n",
    "s2 = \"hello my name is Bob\"\n",
    "s3 = \"hi my name is Claude\"\n",
    "s4 = \"hi Alice\"\n",
    "s5 = \"hello Claude\"\n",
    "s6 = \"Bob my name is Claude\"\n",
    "s7 = \"hi Claude my name is Alice\"\n",
    "s8 = \"hello Bob\"\n",
    "\n",
    "# hard coded solution\n",
    "corpus = [s1, s2, s3, s4, s5, s6, s7, s8]\n",
    "all_words = list(set([item for x in corpus for item in x.split()]))\n",
    "print(all_words)\n",
    "matrix = []\n",
    "for i in range(len(corpus)):\n",
    "    vector = [1 if x in corpus[i] else 0 for x in all_words]\n",
    "    matrix.append(vector)\n",
    "print(matrix)\n",
    "print(len(matrix), len(matrix[0]))\n",
    "\n",
    "# class-based solution\n",
    "class Matrix:\n",
    "    def __init__(self):\n",
    "        # initializes the empty matrix\n",
    "        self.corpus = []\n",
    "        self.all_words = []\n",
    "        self.matrix = []\n",
    "    def __repr__(self):\n",
    "        # prints the matrix in a pleasant format\n",
    "        m = f\"{repr(self.all_words)}\"\n",
    "        for i in range(len(self.matrix)):\n",
    "            m += f\"\\n{repr(self.matrix[i])}\"\n",
    "        return m\n",
    "    def insert(self, sentences):\n",
    "        # inserts an array of sentences\n",
    "        self.corpus.extend(sentences)\n",
    "        self.all_words = list(set([item for x in self.corpus for item in x.split()]))\n",
    "        self.update_matrix()\n",
    "    def remove(self, sentences):\n",
    "        # removes an array of sentences\n",
    "        sentences = set(sentences)\n",
    "        self.corpus = [s for s in self.corpus if s not in sentences]\n",
    "        self.all_words = list(set([item for x in self.corpus for item in x.split()]))\n",
    "        self.update_matrix()\n",
    "    def update_matrix(self):\n",
    "        # updates the matrix - typically called during the completion of insert or remove\n",
    "        self.matrix = []\n",
    "        for i in range(len(self.corpus)):\n",
    "            vector = [1 if x in self.corpus[i] else 0 for x in self.all_words]\n",
    "            self.matrix.append(vector)\n",
    "\n",
    "m = Matrix()\n",
    "m.insert([s1, s2, s3, s4, s5, s6, s7, s8])\n",
    "print(m)\n",
    "try:\n",
    "    print(len(m.matrix), len(m.matrix[0]))\n",
    "except IndexError:\n",
    "    print(\"m is empty\")\n",
    "\n",
    "# both solutions produce the same results\n",
    "try:\n",
    "    assert corpus == m.corpus\n",
    "    assert all_words == m.all_words\n",
    "    assert matrix == m.matrix\n",
    "except:\n",
    "    print(\"results did not match\")"
   ]
  },
  {
   "cell_type": "markdown",
   "metadata": {},
   "source": [
    "e) How many rows and columns does this matrix have?"
   ]
  },
  {
   "cell_type": "markdown",
   "metadata": {},
   "source": [
    "This matrix has 8 rows and 8 columns."
   ]
  },
  {
   "attachments": {},
   "cell_type": "markdown",
   "metadata": {},
   "source": [
    "f) When using the Manhattan distance, which two sentences are the most similar?"
   ]
  },
  {
   "cell_type": "code",
   "execution_count": 21,
   "metadata": {},
   "outputs": [
    {
     "name": "stdout",
     "output_type": "stream",
     "text": [
      "hello my name is Alice\n",
      "hello my name is Bob\n",
      "hi my name is Claude\n",
      "hi Alice\n",
      "hello Claude\n",
      "Bob my name is Claude\n",
      "hi Claude my name is Alice\n",
      "hello Bob\n",
      "\n",
      "['Claude', 'hello', 'my', 'name', 'is', 'Bob', 'hi', 'Alice']\n",
      "[0, 1, 1, 1, 1, 0, 0, 1]\n",
      "[0, 1, 1, 1, 1, 1, 0, 0]\n",
      "[1, 0, 1, 1, 1, 0, 1, 0]\n",
      "[0, 0, 0, 0, 0, 0, 1, 1]\n",
      "[1, 1, 0, 0, 0, 0, 0, 0]\n",
      "[1, 0, 1, 1, 1, 1, 0, 0]\n",
      "[1, 0, 1, 1, 1, 0, 1, 1]\n",
      "[0, 1, 0, 0, 0, 1, 0, 0]\n",
      "vector with index 2 ([1, 0, 1, 1, 1, 0, 1, 0]) and vector with index 6 ([1, 0, 1, 1, 1, 0, 1, 1]) are the most similar with a distance of 1.0\n"
     ]
    }
   ],
   "source": [
    "print(f\"{s1}\\n{s2}\\n{s3}\\n{s4}\\n{s5}\\n{s6}\\n{s7}\\n{s8}\\n\")\n",
    "print(m)\n",
    "print(most_similar(m.matrix))"
   ]
  },
  {
   "cell_type": "markdown",
   "metadata": {},
   "source": [
    "Using Manhattan distance, the most similar sentences are sentence 3 and sentence 7. \n",
    "\n",
    "Sentence 3: \"hi my name is Claude\"\n",
    "\n",
    "Sentence 7: \"hi Claude my name is Alice\""
   ]
  },
  {
   "cell_type": "markdown",
   "metadata": {},
   "source": [
    "#### Part 3 Challenge"
   ]
  },
  {
   "cell_type": "markdown",
   "metadata": {},
   "source": [
    "Given a set of graphs $\\mathcal{G}$, each graph $G \\in \\mathcal{G}$ is defined over the same set of nodes $V$. The graphs are represented by their adjacency matrices, which are 2D arrays where each element indicates whether a pair of nodes is connected by an edge.\n",
    "\n",
    "Your task is to compute the pairwise distances between these graphs based on a specific distance metric. The distance $d(G, G')$ between two graphs $G = (V, E)$ and $G' = (V, E')$ is defined as the sum of the number of edges in $G$ but not in $G'$, and the number of edges in $G'$ but not in $G$. Mathematically, this can be expressed as:\n",
    "\n",
    "$$\n",
    "d(G, G') = |E \\setminus E'| + |E' \\setminus E|.\n",
    "$$\n",
    "\n",
    "##### Requirements:\n",
    "1. **Input**: Should take a list of 2D numpy arrays as input. Each array represents the adjacency matrix of a graph.\n",
    "\n",
    "2. **Output**: Should output a pairwise distance matrix. If there are $n$ graphs in the input list, the output should be an $n \\times n$ matrix where the entry at position $(i, j)$ represents the distance between the $i^{th}$ and $j^{th}$ graph."
   ]
  },
  {
   "cell_type": "code",
   "execution_count": 23,
   "metadata": {},
   "outputs": [
    {
     "name": "stdout",
     "output_type": "stream",
     "text": [
      "1\n",
      "3\n",
      "2\n",
      "[[0, 1, 3], [1, 0, 2], [3, 2, 0]]\n"
     ]
    }
   ],
   "source": [
    "'''\n",
    "Nodes V: {a, b, c}\n",
    "Graph A:\n",
    "    edges: a -> b, b -> c\n",
    "    matrix: [[0, 1, 0], [0, 0, 1], [0, 0, 0]]\n",
    "Graph B:\n",
    "    edges: a -> b\n",
    "    matrix: [[0, 1, 0], [0, 0, 0], [0, 0, 0]]\n",
    "Graph C:\n",
    "    edges: a -> c\n",
    "    matrix: [[0, 0, 1], [0, 0, 0], [0, 0, 0]]\n",
    "'''\n",
    "graph_A = [[0, 1, 0], [0, 0, 1], [0, 0, 0]]\n",
    "graph_B = [[0, 1, 0], [0, 0, 0], [0, 0, 0]]\n",
    "graph_C = [[0, 0, 1], [0, 0, 0], [0, 0, 0]]\n",
    "sample_input = [graph_A, graph_B, graph_C]\n",
    "\n",
    "def graph_distance(g1, g2):\n",
    "    dist = 0\n",
    "    for i in range(len(g1)):\n",
    "        for j in range(len(g1[0])):\n",
    "            if g1[i][j] != g2[i][j]:\n",
    "                dist += 1\n",
    "    return dist\n",
    "\n",
    "def pairwise_distance(graphs):\n",
    "    pairwise_matrix = [[None for _ in range(len(graphs))] for _ in range(len(graphs))]\n",
    "    for i in range(len(graphs)):\n",
    "        for j in range(len(graphs)):\n",
    "            pairwise_matrix[i][j] = graph_distance(graphs[i], graphs[j])\n",
    "    return pairwise_matrix\n",
    "\n",
    "print(graph_distance(graph_A, graph_B))\n",
    "print(graph_distance(graph_A, graph_C))\n",
    "print(graph_distance(graph_B, graph_C))\n",
    "\n",
    "print(pairwise_distance(sample_input))"
   ]
  }
 ],
 "metadata": {
  "kernelspec": {
   "display_name": "Python 3",
   "language": "python",
   "name": "python3"
  },
  "language_info": {
   "codemirror_mode": {
    "name": "ipython",
    "version": 3
   },
   "file_extension": ".py",
   "mimetype": "text/x-python",
   "name": "python",
   "nbconvert_exporter": "python",
   "pygments_lexer": "ipython3",
   "version": "3.11.3"
  },
  "orig_nbformat": 4,
  "vscode": {
   "interpreter": {
    "hash": "76ca05dc3ea24b2e3b98cdb7774adfbb40773424bf5109b477fd793f623715af"
   }
  }
 },
 "nbformat": 4,
 "nbformat_minor": 2
}
