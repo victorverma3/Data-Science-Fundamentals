{
 "cells": [
  {
   "attachments": {},
   "cell_type": "markdown",
   "metadata": {},
   "source": [
    "# Worksheet 08\n",
    "\n",
    "Name: Victor Verma\n",
    "UID: U86967149\n",
    "\n",
    "### Topics\n",
    "\n",
    "- Soft Clustering\n",
    "- Clustering Aggregation\n",
    "\n",
    "### Probability Review\n",
    "\n",
    "Read through [the following](https://medium.com/@gallettilance/overview-of-probability-3272b72c82c8)\n",
    "\n",
    "### Soft Clustering\n",
    "\n",
    "We generate 10 data points that come from a normal distribution with mean 5 and variance 1."
   ]
  },
  {
   "cell_type": "code",
   "execution_count": 1,
   "metadata": {},
   "outputs": [
    {
     "name": "stdout",
     "output_type": "stream",
     "text": [
      "[3.015266774698381, 4.621614555950935, 4.244614782596882, 5.3643633477725405, 4.84676009357638, 3.489650359673156, 4.697411141254303, 4.915396104681839, 5.201175663768233, 4.472850926956348]\n",
      "4.4869103750929\n"
     ]
    }
   ],
   "source": [
    "import random\n",
    "import numpy as np\n",
    "from sklearn.cluster import KMeans\n",
    "\n",
    "mean = 5\n",
    "stdev = 1\n",
    "\n",
    "s1 = np.random.normal(mean, stdev, 10).tolist()\n",
    "print(s1)\n",
    "print(np.mean(s1))"
   ]
  },
  {
   "cell_type": "markdown",
   "metadata": {},
   "source": [
    "a) Generate 10 more data points, this time coming from a normal distribution with mean 8 and variance 1."
   ]
  },
  {
   "cell_type": "code",
   "execution_count": 2,
   "metadata": {},
   "outputs": [
    {
     "name": "stdout",
     "output_type": "stream",
     "text": [
      "[8.449862924114997, 6.943838763680527, 7.5101154037552575, 9.082465743286216, 7.188580191023628, 8.770296645414225, 8.803420343803595, 8.51304190432293, 7.260666685833643, 7.2627245069196285]\n",
      "7.978501311215465\n"
     ]
    }
   ],
   "source": [
    "s2 = np.random.normal(8, 1, 10).tolist()\n",
    "print(s2)\n",
    "print(np.mean(s2))"
   ]
  },
  {
   "attachments": {},
   "cell_type": "markdown",
   "metadata": {},
   "source": [
    "b) Flip a fair coin 10 times. If the coin lands on H, then pick the last data point of `s1` and remove it from `s1`, if T then pick the last data point from `s2` and remove it from `s2`. Add these 10 points to a list called `data`."
   ]
  },
  {
   "cell_type": "code",
   "execution_count": 3,
   "metadata": {},
   "outputs": [
    {
     "name": "stdout",
     "output_type": "stream",
     "text": [
      "[4.472850926956348, 7.2627245069196285, 7.260666685833643, 8.51304190432293, 8.803420343803595, 8.770296645414225, 7.188580191023628, 5.201175663768233, 4.915396104681839, 9.082465743286216]\n"
     ]
    }
   ],
   "source": [
    "data = []\n",
    "for i in range(10):\n",
    "    # flip coin\n",
    "    coin_output = random.choice([0, 1])\n",
    "    if coin_output == 0:\n",
    "        p1 = s1.pop()\n",
    "        data.append(p1)\n",
    "    else:\n",
    "        p2 = s2.pop()\n",
    "        data.append(p2)\n",
    "print(data)"
   ]
  },
  {
   "cell_type": "markdown",
   "metadata": {},
   "source": [
    "c) This `data` is a Gaussian Mixture Distribution with 2 mixture components. Over the next few questions we will walk through the GMM algorithm to see if we can uncover the parameters we used to generate this data. First, please list all these parameters of the GMM that created `data` and the values we know they have."
   ]
  },
  {
   "cell_type": "markdown",
   "metadata": {},
   "source": [
    "- Prior probability of species 1\n",
    "- Prior probability of species 2\n",
    "- Mean of species 1\n",
    "- Mean of species 2\n",
    "- Variance of species 1\n",
    "- Variance of species 2"
   ]
  },
  {
   "cell_type": "markdown",
   "metadata": {},
   "source": [
    "d) Let's assume there are two mixture components (note: we could plot the data and make the observation that there are two clusters). The EM algorithm asks us to start with a random `mean_j`, `variance_j`, `P(S_j)` for each component j. One method we could use to find sensible values for these is to apply K means with k=2 here.\n",
    "\n",
    "1. the centroids would be the estimates of the `mean_j`\n",
    "2. the intra-cluster variance could be the estimate of `variance_j`\n",
    "3. the proportion of points in each cluster could be the estimate of `P(S_j)`\n",
    "\n",
    "Go through this process and list the parameter estimates it gives. Are they close or far from the true values?"
   ]
  },
  {
   "cell_type": "code",
   "execution_count": 21,
   "metadata": {},
   "outputs": [
    {
     "name": "stdout",
     "output_type": "stream",
     "text": [
      "[7.2627245069196285, 7.260666685833643, 8.51304190432293, 8.803420343803595, 8.770296645414225, 7.188580191023628, 9.082465743286216]\n",
      "[4.472850926956348, 5.201175663768233, 4.915396104681839]\n",
      "P(S_1) = 0.7,  P(S_2) = 0.3\n",
      "mean_1 = 8.12588514580055,  mean_2 = 4.8631408984688065\n",
      "var_1 = 0.6159209672504508,  var_2 = 10.735274813826587\n"
     ]
    }
   ],
   "source": [
    "kmeans = KMeans(2, init='k-means++').fit(X=np.array(data).reshape(-1, 1))\n",
    "\n",
    "s1 = [x[0] for x in filter(lambda x: x[1] == 0, zip(data, kmeans.labels_))]\n",
    "print(s1)\n",
    "s2 = [x[0] for x in filter(lambda x: x[1] == 1, zip(data, kmeans.labels_))]\n",
    "print(s2)\n",
    "\n",
    "prob_s = [ len(s1) / (len(s1) + len(s2)), len(s2) / (len(s1) + len(s2)) ]\n",
    "mean = [ sum(s1)/len(s1), sum(s2)/len(s2)]\n",
    "var = [ sum(map(lambda x : (x - mean[0])**2, s1)) / len(s1), sum(map(lambda x : (x - mean[0])**2, s2)) / len(s2) ]\n",
    "\n",
    "print(\"P(S_1) = \" + str(prob_s[0]) + \",  P(S_2) = \" + str(prob_s[1]))\n",
    "print(\"mean_1 = \" + str(mean[0]) + \",  mean_2 = \" + str(mean[1]))\n",
    "print(\"var_1 = \" + str(var[0]) + \",  var_2 = \" + str(var[1]))"
   ]
  },
  {
   "cell_type": "markdown",
   "metadata": {},
   "source": [
    "The estimates for mean_1 and mean_2 are 8.12 and 4.86, while the estimates for var_1 and var_2 are 0.61 and 10.73. The real mean values for these parameters are 7.98 and 4.49. I would say that the initial estimates are really close. However, I would imagine that there would be variation depending on the overlap of the clusters, with some configurations having better initial estimates than others."
   ]
  },
  {
   "cell_type": "markdown",
   "metadata": {},
   "source": [
    "e) For each data point, compute `P(S_j | X_i)`. Comment on which cluster you think each point belongs to based on the estimated probabilities. How does that compare to the truth?"
   ]
  },
  {
   "cell_type": "code",
   "execution_count": 22,
   "metadata": {},
   "outputs": [
    {
     "name": "stdout",
     "output_type": "stream",
     "text": [
      "point =  4.472850926956348\n",
      "probability of observing that point if it came from cluster 0 =  1.488741739472644e-08\n",
      "probability of observing that point if it came from cluster 1 =  0.03713726233963731\n",
      "point =  7.2627245069196285\n",
      "probability of observing that point if it came from cluster 0 =  0.24261405317020854\n",
      "probability of observing that point if it came from cluster 1 =  0.03624496196648836\n",
      "point =  7.260666685833643\n",
      "probability of observing that point if it came from cluster 0 =  0.24147939496073864\n",
      "probability of observing that point if it came from cluster 1 =  0.03624651431008765\n",
      "point =  8.51304190432293\n",
      "probability of observing that point if it came from cluster 0 =  0.5316023675539241\n",
      "probability of observing that point if it came from cluster 1 =  0.035074860273943985\n",
      "point =  8.803420343803595\n",
      "probability of observing that point if it came from cluster 0 =  0.3536875296057521\n",
      "probability of observing that point if it came from cluster 1 =  0.034741064120873945\n",
      "point =  8.770296645414225\n",
      "probability of observing that point if it came from cluster 0 =  0.3747003817747897\n",
      "probability of observing that point if it came from cluster 1 =  0.03478026522115231\n",
      "point =  7.188580191023628\n",
      "probability of observing that point if it came from cluster 0 =  0.2034712216404047\n",
      "probability of observing that point if it came from cluster 1 =  0.036300093895944685\n",
      "point =  5.201175663768233\n",
      "probability of observing that point if it came from cluster 0 =  8.22365631623922e-06\n",
      "probability of observing that point if it came from cluster 1 =  0.03714339493117161\n",
      "point =  4.915396104681839\n",
      "probability of observing that point if it came from cluster 0 =  8.155619175952904e-07\n",
      "probability of observing that point if it came from cluster 1 =  0.03716137324283481\n",
      "point =  9.082465743286216\n",
      "probability of observing that point if it came from cluster 0 =  0.1939129488871136\n",
      "probability of observing that point if it came from cluster 1 =  0.03439956668582542\n",
      "4.472850926956348\n",
      "Probability of coming from S_1 = 9.35375215444184e-07\n",
      "Probability of coming from S_2 = 0.9999990646247845\n",
      "\n",
      "7.2627245069196285\n",
      "Probability of coming from S_1 = 0.9398268485582053\n",
      "Probability of coming from S_2 = 0.060173151441794796\n",
      "\n",
      "7.260666685833643\n",
      "Probability of coming from S_1 = 0.9395587646371156\n",
      "Probability of coming from S_2 = 0.060441235362884385\n",
      "\n",
      "8.51304190432293\n",
      "Probability of coming from S_1 = 0.9725006666520655\n",
      "Probability of coming from S_2 = 0.02749933334793445\n",
      "\n",
      "8.803420343803595\n",
      "Probability of coming from S_1 = 0.9596039759064346\n",
      "Probability of coming from S_2 = 0.04039602409356537\n",
      "\n",
      "8.770296645414225\n",
      "Probability of coming from S_1 = 0.9617412978032921\n",
      "Probability of coming from S_2 = 0.038258702196707954\n",
      "\n",
      "7.188580191023628\n",
      "Probability of coming from S_1 = 0.9289718467482607\n",
      "Probability of coming from S_2 = 0.07102815325173933\n",
      "\n",
      "5.201175663768233\n",
      "Probability of coming from S_1 = 0.0005163400823272044\n",
      "Probability of coming from S_2 = 0.9994836599176727\n",
      "\n",
      "4.915396104681839\n",
      "Probability of coming from S_1 = 5.120586776107015e-05\n",
      "Probability of coming from S_2 = 0.9999487941322389\n",
      "\n",
      "9.082465743286216\n",
      "Probability of coming from S_1 = 0.9293444796076075\n",
      "Probability of coming from S_2 = 0.07065552039239244\n",
      "\n"
     ]
    }
   ],
   "source": [
    "from scipy.stats import norm\n",
    "\n",
    "prob_s0_x = [] # P(S_0 | X_i)\n",
    "prob_s1_x = [] # P(S_1 | X_i)\n",
    "prob_x = [] # P(X_i)\n",
    "\n",
    "k = 2\n",
    "\n",
    "for p in data:\n",
    "    print(\"point = \", p)\n",
    "    pdf_i = []\n",
    "\n",
    "    for j in range(k):\n",
    "        # P(X_i | S_j)\n",
    "        pdf_i.append(norm.pdf(p, mean[j], var[j]))\n",
    "        print(\"probability of observing that point if it came from cluster \" + str(j) + \" = \", pdf_i[j])\n",
    "        # P(S_j) already computed\n",
    "        prob_s[j]\n",
    "\n",
    "    # P(X_i) = P(S_0)P(X_i | S_0) + P(S_1)P(X_i | S_1)\n",
    "    prob_x = prob_s[0] * pdf_i[0] + prob_s[1] * pdf_i[1]\n",
    "\n",
    "    # P(S_j | X_i) = P(X_i | S_j)P(S_j) / P(X_i)\n",
    "    prob_s0_x.append(pdf_i[0] * prob_s[0] / prob_x)\n",
    "    prob_s1_x.append(pdf_i[1] * prob_s[1] / prob_x)\n",
    "\n",
    "probs = zip(data, prob_s0_x, prob_s1_x)\n",
    "for p in probs:\n",
    "    print(p[0])\n",
    "    print(\"Probability of coming from S_1 = \" + str(p[1]))\n",
    "    print(\"Probability of coming from S_2 = \" + str(p[2]))\n",
    "    print()\n"
   ]
  },
  {
   "cell_type": "markdown",
   "metadata": {},
   "source": [
    "For the most part, it seems that for each point, the cluster with a higher probability of being correct, is indeed the true correct cluster. However, the large variance of cluster 1, compared to cluster 0, is causing issues because it is allowing a greater range of points to be classified as cluster 1. I think that the accuracy of the first round of clustering would greatly depend on the initial values of the means and variances as determined by k-means."
   ]
  },
  {
   "cell_type": "markdown",
   "metadata": {},
   "source": [
    "f) Having computed `P(S_j | X_i)`, update the estimates of `mean_j`, `var_j`, and `P(S_j)`. How different are these values from the original ones you got from K means? briefly comment."
   ]
  },
  {
   "cell_type": "code",
   "execution_count": 23,
   "metadata": {},
   "outputs": [
    {
     "name": "stdout",
     "output_type": "stream",
     "text": [
      "P(S_1) = 0.7,  P(S_2) = 0.3\n",
      "mean_1 = 8.131746430523842,  mean_2 = 5.207997677479457\n",
      "var_1 = 0.6122465077325174,  var_2 = 1.1230095242592022\n"
     ]
    }
   ],
   "source": [
    "prob_c = [sum(prob_s0_x)/ len(prob_s0_x), sum(prob_s1_x)/ len(prob_s1_x)]\n",
    "mean = [sum([x[0] * x[1] for x in zip(prob_s0_x, data)]) / sum(prob_s0_x), sum([x[0] * x[1] for x in zip(prob_s1_x, data)]) / sum(prob_s1_x)]\n",
    "var = [sum([x[0] * (x[1] - mean[0]) ** 2 for x in zip(prob_s0_x, data)]) / sum(prob_s0_x), sum([x[0] * (x[1] - mean[1]) ** 2 for x in zip(prob_s1_x, data)]) / sum(prob_s1_x) ]\n",
    "\n",
    "print(\"P(S_1) = \" + str(prob_s[0]) + \",  P(S_2) = \" + str(prob_s[1]))\n",
    "print(\"mean_1 = \" + str(mean[0]) + \",  mean_2 = \" + str(mean[1]))\n",
    "print(\"var_1 = \" + str(var[0]) + \",  var_2 = \" + str(var[1]))"
   ]
  },
  {
   "cell_type": "markdown",
   "metadata": {},
   "source": [
    "Both of the means actually got a little farther from the true value, having both increased. However, variance 2 went down a great deal, and I think that this would have a much greater impact in the next round of clustering. I would expect an algorithm like this to require many iterations to reach an optimal clustering, so I am not too worried about the means getting worse."
   ]
  },
  {
   "cell_type": "markdown",
   "metadata": {},
   "source": [
    "g) Update `P(S_j | X_i)`. Comment on any differences or lack thereof you observe."
   ]
  },
  {
   "cell_type": "code",
   "execution_count": 24,
   "metadata": {},
   "outputs": [
    {
     "name": "stdout",
     "output_type": "stream",
     "text": [
      "point =  4.472850926956348\n",
      "probability of observing that point if it came from cluster 0 =  1.14453352495967e-08\n",
      "probability of observing that point if it came from cluster 1 =  0.28672959727226094\n",
      "point =  7.2627245069196285\n",
      "probability of observing that point if it came from cluster 0 =  0.237957155089597\n",
      "probability of observing that point if it came from cluster 1 =  0.06661799512613757\n",
      "point =  7.260666685833643\n",
      "probability of observing that point if it came from cluster 0 =  0.23682328941282563\n",
      "probability of observing that point if it came from cluster 1 =  0.06684160795913126\n",
      "point =  8.51304190432293\n",
      "probability of observing that point if it came from cluster 0 =  0.5367374015762872\n",
      "probability of observing that point if it came from cluster 1 =  0.004674437409829773\n",
      "point =  8.803420343803595\n",
      "probability of observing that point if it came from cluster 0 =  0.3569735775134501\n",
      "probability of observing that point if it came from cluster 1 =  0.002112129116808064\n",
      "point =  8.770296645414225\n",
      "probability of observing that point if it came from cluster 0 =  0.3782485545810213\n",
      "probability of observing that point if it came from cluster 1 =  0.0023202944502680027\n",
      "point =  7.188580191023628\n",
      "probability of observing that point if it came from cluster 0 =  0.19891262622401457\n",
      "probability of observing that point if it came from cluster 1 =  0.07500799524241542\n",
      "point =  5.201175663768233\n",
      "probability of observing that point if it came from cluster 0 =  6.899769098310488e-06\n",
      "probability of observing that point if it came from cluster 1 =  0.3552373428945256\n",
      "point =  4.915396104681839\n",
      "probability of observing that point if it came from cluster 0 =  6.625264116881141e-07\n",
      "probability of observing that point if it came from cluster 1 =  0.34338803439141113\n",
      "point =  9.082465743286216\n",
      "probability of observing that point if it came from cluster 0 =  0.19515320998723243\n",
      "probability of observing that point if it came from cluster 1 =  0.0009243105424862798\n",
      "P(S_1) = 0.7,  P(S_2) = 0.3\n",
      "mean_1 = 8.172502932769373,  mean_2 = 5.125137581072043\n",
      "var_1 = 0.6043681988421651,  var_2 = 0.651618390686397\n"
     ]
    }
   ],
   "source": [
    "from scipy.stats import norm\n",
    "\n",
    "prob_s0_x = [] # P(S_0 | X_i)\n",
    "prob_s1_x = [] # P(S_1 | X_i)\n",
    "prob_x = [] # P(X_i)\n",
    "\n",
    "k = 2\n",
    "\n",
    "for p in data:\n",
    "    print(\"point = \", p)\n",
    "    pdf_i = []\n",
    "\n",
    "    for j in range(k):\n",
    "        # P(X_i | S_j)\n",
    "        pdf_i.append(norm.pdf(p, mean[j], var[j]))\n",
    "        print(\"probability of observing that point if it came from cluster \" + str(j) + \" = \", pdf_i[j])\n",
    "        # P(S_j) already computed\n",
    "        prob_s[j]\n",
    "\n",
    "    # P(X_i) = P(S_0)P(X_i | S_0) + P(S_1)P(X_i | S_1)\n",
    "    prob_x = prob_s[0] * pdf_i[0] + prob_s[1] * pdf_i[1]\n",
    "\n",
    "    # P(S_j | X_i) = P(X_i | S_j)P(S_j) / P(X_i)\n",
    "    prob_s0_x.append(pdf_i[0] * prob_s[0] / prob_x)\n",
    "    prob_s1_x.append(pdf_i[1] * prob_s[1] / prob_x)\n",
    "\n",
    "probs = zip(data, prob_s0_x, prob_s1_x)\n",
    "\n",
    "prob_c = [sum(prob_s0_x)/ len(prob_s0_x), sum(prob_s1_x)/ len(prob_s1_x)]\n",
    "mean = [sum([x[0] * x[1] for x in zip(prob_s0_x, data)]) / sum(prob_s0_x), sum([x[0] * x[1] for x in zip(prob_s1_x, data)]) / sum(prob_s1_x)]\n",
    "var = [sum([x[0] * (x[1] - mean[0]) ** 2 for x in zip(prob_s0_x, data)]) / sum(prob_s0_x), sum([x[0] * (x[1] - mean[1]) ** 2 for x in zip(prob_s1_x, data)]) / sum(prob_s1_x) ]\n",
    "\n",
    "print(\"P(S_1) = \" + str(prob_s[0]) + \",  P(S_2) = \" + str(prob_s[1]))\n",
    "print(\"mean_1 = \" + str(mean[0]) + \",  mean_2 = \" + str(mean[1]))\n",
    "print(\"var_1 = \" + str(var[0]) + \",  var_2 = \" + str(var[1]))\n",
    "\n"
   ]
  },
  {
   "cell_type": "markdown",
   "metadata": {},
   "source": [
    "Both of the means got a little closer to their true values. The second variance got smaller again. I am not sure how many iterations are usually necessary to get the optimal results. We are only at 2 iterations, so I would think that more are needed."
   ]
  },
  {
   "cell_type": "markdown",
   "metadata": {},
   "source": [
    "h) Use `P(S_j | X_i)` to create a hard assignment - label each point as belonging to a specific cluster (0 or 1)"
   ]
  },
  {
   "cell_type": "code",
   "execution_count": 27,
   "metadata": {},
   "outputs": [
    {
     "name": "stdout",
     "output_type": "stream",
     "text": [
      "{4.472850926956348: 1, 7.2627245069196285: 0, 7.260666685833643: 0, 8.51304190432293: 0, 8.803420343803595: 0, 8.770296645414225: 0, 7.188580191023628: 0, 5.201175663768233: 1, 4.915396104681839: 1, 9.082465743286216: 0}\n"
     ]
    }
   ],
   "source": [
    "assignments = {}\n",
    "for p in range(len(data)):\n",
    "    if prob_s0_x[p] > prob_s1_x[p]:\n",
    "        assignments[data[p]] = 0\n",
    "    else:\n",
    "        assignments[data[p]] = 1\n",
    "print(assignments)"
   ]
  }
 ],
 "metadata": {
  "kernelspec": {
   "display_name": "Python 3",
   "language": "python",
   "name": "python3"
  },
  "language_info": {
   "codemirror_mode": {
    "name": "ipython",
    "version": 3
   },
   "file_extension": ".py",
   "mimetype": "text/x-python",
   "name": "python",
   "nbconvert_exporter": "python",
   "pygments_lexer": "ipython3",
   "version": "3.11.3"
  },
  "orig_nbformat": 4,
  "vscode": {
   "interpreter": {
    "hash": "e7370f93d1d0cde622a1f8e1c04877d8463912d04d973331ad4851f04de6915a"
   }
  }
 },
 "nbformat": 4,
 "nbformat_minor": 2
}
