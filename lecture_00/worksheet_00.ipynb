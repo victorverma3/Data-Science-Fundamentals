{
 "cells": [
  {
   "cell_type": "markdown",
   "metadata": {},
   "source": [
    "# Worksheet 00\n",
    "\n",
    "Name:  \n",
    "UID: \n",
    "\n",
    "### Topics\n",
    "\n",
    "- course overview\n",
    "- python review\n",
    "\n",
    "### Course Overview\n",
    "\n",
    "a) Why are you taking this course?"
   ]
  },
  {
   "cell_type": "markdown",
   "metadata": {},
   "source": [
    "There are a couple of reasons. Firstly, a friend of a friend recommended this class to me, saying that it was good. Secondly, I wanted to gain further project experience, because it is both something that I enjoy, and it is something that I feel that the BU curriculum lacks. I'm particularly excited that the project is real-world through BU spark. Lastly, I am a data science minor, and after taking DS340 Introduction to Machine Learning and AI, I felt that this course could add value and reinforce some of those concepts, while helping me get better and learn new things."
   ]
  },
  {
   "cell_type": "markdown",
   "metadata": {},
   "source": [
    "b) What are your academic and professional goals for this semester?"
   ]
  },
  {
   "cell_type": "markdown",
   "metadata": {},
   "source": [
    "Academically, I want to better understand machine learning concepts and how to implement them. Professionally, I want to improve my ability to work as a team and meet real world demands."
   ]
  },
  {
   "cell_type": "markdown",
   "metadata": {},
   "source": [
    "c) Do you have previous Data Science experience? If so, please expand."
   ]
  },
  {
   "cell_type": "markdown",
   "metadata": {},
   "source": [
    "Yes. I took DS340, which is Introduction to Machine Learning and AI. We learned some of the theory/implementation for look-ahead based methods, monte-carlo tree search, naive bayes, decision trees/random forests, neural networks. Also briefly touched upon GANs, stable diffusion, attention, and transformer architecture. For my final project I implemented a LSTM and RNN to predict NFL statistics for QBs, RBs, WRs, and TEs. I also do some research for a professor in Questrom where I have utilized random forests, k-nearest neighbors, XGBoost, and neural networks (mostly off the shelf from scikit-learn and tensorflow) to assess the accuracy of our output dataset."
   ]
  },
  {
   "cell_type": "markdown",
   "metadata": {},
   "source": [
    "d) Data Science is a combination of programming, math (linear algebra and calculus), and statistics. Which of these three do you struggle with the most (you may pick more than one)?"
   ]
  },
  {
   "cell_type": "markdown",
   "metadata": {},
   "source": [
    "I'm a joint math and cs major, so I probably have more experience and ability with the math side of data science than most. That being said, I am definitely the worst at linear algebra because I use took MA242 in spring 2022 and haven't used it that much since. I also don't really think my professor for that class was good so I don't think I learned it the best."
   ]
  },
  {
   "attachments": {},
   "cell_type": "markdown",
   "metadata": {},
   "source": [
    "### Python review\n",
    "\n",
    "#### Lambda functions\n",
    "\n",
    "Python supports the creation of anonymous functions (i.e. functions that are not bound to a name) at runtime, using a construct called `lambda`. Instead of writing a named function as such:"
   ]
  },
  {
   "cell_type": "code",
   "execution_count": 1,
   "metadata": {},
   "outputs": [
    {
     "data": {
      "text/plain": [
       "64"
      ]
     },
     "execution_count": 1,
     "metadata": {},
     "output_type": "execute_result"
    }
   ],
   "source": [
    "def f(x):\n",
    "    return x**2\n",
    "f(8)"
   ]
  },
  {
   "cell_type": "markdown",
   "metadata": {},
   "source": [
    "One can write an anonymous function as such:"
   ]
  },
  {
   "cell_type": "code",
   "execution_count": 2,
   "metadata": {},
   "outputs": [
    {
     "data": {
      "text/plain": [
       "64"
      ]
     },
     "execution_count": 2,
     "metadata": {},
     "output_type": "execute_result"
    }
   ],
   "source": [
    "(lambda x: x**2)(8)"
   ]
  },
  {
   "cell_type": "markdown",
   "metadata": {},
   "source": [
    "A `lambda` function can take multiple arguments:"
   ]
  },
  {
   "cell_type": "code",
   "execution_count": 3,
   "metadata": {},
   "outputs": [
    {
     "data": {
      "text/plain": [
       "5"
      ]
     },
     "execution_count": 3,
     "metadata": {},
     "output_type": "execute_result"
    }
   ],
   "source": [
    "(lambda x, y : x + y)(2, 3)"
   ]
  },
  {
   "cell_type": "markdown",
   "metadata": {},
   "source": [
    "The arguments can be `lambda` functions themselves:"
   ]
  },
  {
   "cell_type": "code",
   "execution_count": 4,
   "metadata": {},
   "outputs": [
    {
     "data": {
      "text/plain": [
       "5"
      ]
     },
     "execution_count": 4,
     "metadata": {},
     "output_type": "execute_result"
    }
   ],
   "source": [
    "(lambda x : x(3))(lambda y: 2 + y)"
   ]
  },
  {
   "cell_type": "markdown",
   "metadata": {},
   "source": [
    "a) write a `lambda` function that takes three arguments `x, y, z` and returns `True` only if `x < y < z`."
   ]
  },
  {
   "cell_type": "code",
   "execution_count": 7,
   "metadata": {},
   "outputs": [
    {
     "data": {
      "text/plain": [
       "<function __main__.<lambda>(x, y, z)>"
      ]
     },
     "execution_count": 7,
     "metadata": {},
     "output_type": "execute_result"
    }
   ],
   "source": [
    "(lambda x, y, z : True if x < y < z else False)"
   ]
  },
  {
   "attachments": {},
   "cell_type": "markdown",
   "metadata": {},
   "source": [
    "b) write a `lambda` function that takes a parameter `n` and returns a lambda function that will multiply any input it receives by `n`. For example, if we called this function `g`, then `g(n)(2) = 2n`"
   ]
  },
  {
   "cell_type": "code",
   "execution_count": 12,
   "metadata": {},
   "outputs": [
    {
     "data": {
      "text/plain": [
       "<function __main__.<lambda>(n)>"
      ]
     },
     "execution_count": 12,
     "metadata": {},
     "output_type": "execute_result"
    }
   ],
   "source": [
    "(lambda n : lambda y: y * n)"
   ]
  },
  {
   "cell_type": "markdown",
   "metadata": {},
   "source": [
    "#### Map\n",
    "\n",
    "`map(func, s)`\n",
    "\n",
    "`func` is a function and `s` is a sequence (e.g., a list). \n",
    "\n",
    "`map()` returns an object that will apply function `func` to each of the elements of `s`.\n",
    "\n",
    "For example if you want to multiply every element in a list by 2 you can write the following:"
   ]
  },
  {
   "cell_type": "code",
   "execution_count": 13,
   "metadata": {},
   "outputs": [
    {
     "name": "stdout",
     "output_type": "stream",
     "text": [
      "[2, 4, 6, 8, 10]\n"
     ]
    }
   ],
   "source": [
    "mylist = [1, 2, 3, 4, 5]\n",
    "mylist_mul_by_2 = map(lambda x : 2 * x, mylist)\n",
    "print(list(mylist_mul_by_2))"
   ]
  },
  {
   "cell_type": "markdown",
   "metadata": {},
   "source": [
    "`map` can also be applied to more than one list as long as they are the same size:"
   ]
  },
  {
   "cell_type": "code",
   "execution_count": 14,
   "metadata": {},
   "outputs": [
    {
     "data": {
      "text/plain": [
       "[6, 6, 6, 6, 6]"
      ]
     },
     "execution_count": 14,
     "metadata": {},
     "output_type": "execute_result"
    }
   ],
   "source": [
    "a = [1, 2, 3, 4, 5]\n",
    "b = [5, 4, 3, 2, 1]\n",
    "\n",
    "a_plus_b = map(lambda x, y: x + y, a, b)\n",
    "list(a_plus_b)"
   ]
  },
  {
   "cell_type": "markdown",
   "metadata": {},
   "source": [
    "c) write a map that checks if elements are greater than zero"
   ]
  },
  {
   "cell_type": "code",
   "execution_count": 16,
   "metadata": {},
   "outputs": [
    {
     "data": {
      "text/plain": [
       "[False, False, False, True, True]"
      ]
     },
     "execution_count": 16,
     "metadata": {},
     "output_type": "execute_result"
    }
   ],
   "source": [
    "c = [-2, -1, 0, 1, 2]\n",
    "gt_zero = map(lambda x: True if x > 0 else False, c)\n",
    "list(gt_zero)"
   ]
  },
  {
   "cell_type": "markdown",
   "metadata": {},
   "source": [
    "d) write a map that checks if elements are multiples of 3"
   ]
  },
  {
   "cell_type": "code",
   "execution_count": 17,
   "metadata": {},
   "outputs": [
    {
     "data": {
      "text/plain": [
       "[False, True, True, False, False]"
      ]
     },
     "execution_count": 17,
     "metadata": {},
     "output_type": "execute_result"
    }
   ],
   "source": [
    "d = [1, 3, 6, 11, 2]\n",
    "mul_of3 = map(lambda x: True if x % 3 == 0 else False, d)\n",
    "list(mul_of3)"
   ]
  },
  {
   "cell_type": "markdown",
   "metadata": {},
   "source": [
    "#### Filter\n",
    "\n",
    "`filter(function, list)` returns a new list containing all the elements of `list` for which `function()` evaluates to `True.`\n",
    "\n",
    "e) write a filter that will only return even numbers in the list"
   ]
  },
  {
   "cell_type": "code",
   "execution_count": 18,
   "metadata": {},
   "outputs": [
    {
     "data": {
      "text/plain": [
       "[2, 4, 6, 8, 10]"
      ]
     },
     "execution_count": 18,
     "metadata": {},
     "output_type": "execute_result"
    }
   ],
   "source": [
    "e = [1, 2, 3, 4, 5, 6, 7, 8, 9, 10]\n",
    "evens = filter(lambda x: x % 2 == 0, e)\n",
    "list(evens)"
   ]
  },
  {
   "cell_type": "markdown",
   "metadata": {},
   "source": [
    "#### Reduce\n",
    "\n",
    "`reduce(function, sequence[, initial])` returns the result of sequentially applying the function to the sequence (starting at an initial state). You can think of reduce as consuming the sequence via the function.\n",
    "\n",
    "For example, let's say we want to add all elements in a list. We could write the following:"
   ]
  },
  {
   "cell_type": "code",
   "execution_count": 19,
   "metadata": {},
   "outputs": [
    {
     "name": "stdout",
     "output_type": "stream",
     "text": [
      "15\n"
     ]
    }
   ],
   "source": [
    "from functools import reduce\n",
    "\n",
    "nums = [1, 2, 3, 4, 5]\n",
    "sum_nums = reduce(lambda acc, x : acc + x, nums, 0)\n",
    "print(sum_nums)"
   ]
  },
  {
   "cell_type": "markdown",
   "metadata": {},
   "source": [
    "Let's walk through the steps of `reduce` above:\n",
    "\n",
    "1) the value of `acc` is set to 0 (our initial value)\n",
    "2) Apply the lambda function on `acc` and the first element of the list: `acc` = `acc` + 1 = 1\n",
    "3) `acc` = `acc` + 2 = 3\n",
    "4) `acc` = `acc` + 3 = 6\n",
    "5) `acc` = `acc` + 4 = 10\n",
    "6) `acc` = `acc` + 5 = 15\n",
    "7) return `acc`\n",
    "\n",
    "`acc` is short for `accumulator`.\n",
    "\n",
    "f) `*challenging` Using `reduce` write a function that returns the factorial of a number. (recall: N! (N factorial) = N * (N - 1) * (N - 2) * ... * 2 * 1)"
   ]
  },
  {
   "cell_type": "code",
   "execution_count": 21,
   "metadata": {},
   "outputs": [
    {
     "data": {
      "text/plain": [
       "3628800"
      ]
     },
     "execution_count": 21,
     "metadata": {},
     "output_type": "execute_result"
    }
   ],
   "source": [
    "factorial = lambda x : reduce(lambda acc, y: acc * y, range(1, x + 1), 1)\n",
    "factorial(10)"
   ]
  },
  {
   "cell_type": "markdown",
   "metadata": {},
   "source": [
    "g) `*challenging` Using `reduce` and `filter`, write a function that returns all the primes below a certain number"
   ]
  },
  {
   "cell_type": "code",
   "execution_count": 23,
   "metadata": {},
   "outputs": [
    {
     "name": "stdout",
     "output_type": "stream",
     "text": [
      "[2, 3, 5, 7, 11, 13, 17, 19, 23, 29, 31, 37, 41, 43, 47, 53, 59, 61, 67, 71, 73, 79, 83, 89, 97]\n"
     ]
    }
   ],
   "source": [
    "sieve = lambda x : reduce(lambda acc, y : acc + [y], filter(lambda y: all(y % i != 0 for i in range(2, int(y**0.5) + 1)), range(2, x)), [])\n",
    "print(sieve(100))"
   ]
  },
  {
   "attachments": {},
   "cell_type": "markdown",
   "metadata": {},
   "source": [
    "### What is going on?\n",
    "\n",
    "For each of the following code snippets, explain why the result may be unexpected and why the output is what it is:"
   ]
  },
  {
   "cell_type": "code",
   "execution_count": 24,
   "metadata": {},
   "outputs": [
    {
     "name": "stdout",
     "output_type": "stream",
     "text": [
      "OVERDRAWN\n"
     ]
    }
   ],
   "source": [
    "class Bank:\n",
    "  def __init__(self, balance):\n",
    "    self.balance = balance\n",
    "  \n",
    "  def is_overdrawn(self):\n",
    "    return self.balance < 0\n",
    "\n",
    "myBank = Bank(100)\n",
    "if myBank.is_overdrawn :\n",
    "  print(\"OVERDRAWN\")\n",
    "else:\n",
    "  print(\"ALL GOOD\")"
   ]
  },
  {
   "cell_type": "markdown",
   "metadata": {},
   "source": [
    "is_overdrawn is a method of the class, so the correct syntax should be \"if myBank.is_overdrawn()\" to check the value of self.balance by calling the method. Otherwise, you are just checking if the method is_overdrawn() exists, which is always True."
   ]
  },
  {
   "cell_type": "code",
   "execution_count": 25,
   "metadata": {},
   "outputs": [
    {
     "name": "stdout",
     "output_type": "stream",
     "text": [
      "0\n",
      "1\n",
      "2\n",
      "3\n"
     ]
    }
   ],
   "source": [
    "for i in range(4):\n",
    "    print(i)\n",
    "    i = 10"
   ]
  },
  {
   "cell_type": "markdown",
   "metadata": {},
   "source": [
    "The variable i iterates from 0 to 3, inclusive, and is immediately printed. After i is set to 10, there is no print statement, and so the next iteration of the loop reassigns the value of i to the iteration count. To print 10, you need a print statement after i is set to 10."
   ]
  },
  {
   "cell_type": "code",
   "execution_count": 26,
   "metadata": {},
   "outputs": [
    {
     "name": "stdout",
     "output_type": "stream",
     "text": [
      "[['', '', ''], ['', '', ''], ['', '', '']]\n",
      "[['X', '', ''], ['X', '', ''], ['X', '', '']]\n"
     ]
    }
   ],
   "source": [
    "row = [\"\"] * 3 # row i['', '', '']\n",
    "board = [row] * 3\n",
    "print(board) # [['', '', ''], ['', '', ''], ['', '', '']]\n",
    "board[0][0] = \"X\"\n",
    "print(board)"
   ]
  },
  {
   "cell_type": "markdown",
   "metadata": {},
   "source": [
    "The issue here is that when we are constructing the board, each row is a reference to the same initial row. So when we change board[0][0], to \"X\", we are changing that value in the original row. However, since the other rows are all references to that same original row, the change is reflected across all of the rows."
   ]
  },
  {
   "cell_type": "code",
   "execution_count": 27,
   "metadata": {},
   "outputs": [
    {
     "name": "stdout",
     "output_type": "stream",
     "text": [
      "[0, 1, 2]\n",
      "[2, 2, 2]\n"
     ]
    }
   ],
   "source": [
    "funcs = []\n",
    "results = []\n",
    "for x in range(3):\n",
    "    def some_func():\n",
    "        return x\n",
    "    funcs.append(some_func)\n",
    "    results.append(some_func())  # note the function call here\n",
    "\n",
    "funcs_results = [func() for func in funcs]\n",
    "print(results) # [0,1,2]\n",
    "print(funcs_results)"
   ]
  },
  {
   "cell_type": "markdown",
   "metadata": {},
   "source": [
    "When we append some_func() to results, we are appending the value of the some_func() function call at that time in the iteration, which is why we append 0, 1, 2. For funcs, however, we are only appending the function itself. Then, when the functions are called later, after the iteration is complete, only the last value of x in the iteration (2) is rememebered, which is why all of the values are 2 in funcs_results."
   ]
  },
  {
   "cell_type": "code",
   "execution_count": 15,
   "metadata": {},
   "outputs": [
    {
     "name": "stdout",
     "output_type": "stream",
     "text": [
      "0\n"
     ]
    }
   ],
   "source": [
    "f = open(\"./data.txt\", \"w+\")\n",
    "f.write(\"1,2,3,4,5\")\n",
    "f.close()\n",
    "\n",
    "nums = []\n",
    "with open(\"./data.txt\", \"w+\") as f:\n",
    "  lines = f.readlines()\n",
    "  for line in lines:\n",
    "    nums += [int(x) for x in line.split(\",\")]\n",
    "\n",
    "print(sum(nums))"
   ]
  },
  {
   "cell_type": "markdown",
   "metadata": {},
   "source": [
    "Opening the file in w+ mode initially resets the file to be empty, before allowing reading and writing. This erases all of the data that was initially written into the file before it was open, which is why the sum of nums is 0 (there are no nums in the file because it is empty)."
   ]
  }
 ],
 "metadata": {
  "interpreter": {
   "hash": "e7370f93d1d0cde622a1f8e1c04877d8463912d04d973331ad4851f04de6915a"
  },
  "kernelspec": {
   "display_name": "Python 3 (ipykernel)",
   "language": "python",
   "name": "python3"
  },
  "language_info": {
   "codemirror_mode": {
    "name": "ipython",
    "version": 3
   },
   "file_extension": ".py",
   "mimetype": "text/x-python",
   "name": "python",
   "nbconvert_exporter": "python",
   "pygments_lexer": "ipython3",
   "version": "3.11.3"
  }
 },
 "nbformat": 4,
 "nbformat_minor": 2
}
